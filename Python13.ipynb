{
  "nbformat": 4,
  "nbformat_minor": 0,
  "metadata": {
    "colab": {
      "name": "Python13.ipynb",
      "provenance": [],
      "collapsed_sections": [],
      "authorship_tag": "ABX9TyOUk3bwpPtSzyWS0sYhRiCs",
      "include_colab_link": true
    },
    "kernelspec": {
      "name": "python3",
      "display_name": "Python 3"
    }
  },
  "cells": [
    {
      "cell_type": "markdown",
      "metadata": {
        "id": "view-in-github",
        "colab_type": "text"
      },
      "source": [
        "<a href=\"https://colab.research.google.com/github/Sis1116/Pemograman-Python/blob/main/Python13.ipynb\" target=\"_parent\"><img src=\"https://colab.research.google.com/assets/colab-badge.svg\" alt=\"Open In Colab\"/></a>"
      ]
    },
    {
      "cell_type": "markdown",
      "metadata": {
        "id": "IXYdJLmItTb-"
      },
      "source": [
        "# **Python 13**\r\n",
        "# **Sistry Dhanny S**\r\n",
        "# **1101184229**\r\n"
      ]
    },
    {
      "cell_type": "markdown",
      "metadata": {
        "id": "FQDTjeK7vzMC"
      },
      "source": [
        "# **Grafik Frekuensi 1800 MHZ**"
      ]
    },
    {
      "cell_type": "code",
      "metadata": {
        "id": "WnFzo0Zs1hEH"
      },
      "source": [
        "import numpy as np\r\n",
        "import matplotlib.pyplot as plt"
      ],
      "execution_count": null,
      "outputs": []
    },
    {
      "cell_type": "code",
      "metadata": {
        "id": "0c-QM_cAq6xH"
      },
      "source": [
        "def cos(frek,tipe,ht,hr,d):\r\n",
        "    if frek in range(150,1501):\r\n",
        "        Ca=69.55\r\n",
        "        Cb=26.16\r\n",
        "    elif frek in range(1501,2001):\r\n",
        "        Ca=46.3\r\n",
        "        Cb=33.9\r\n",
        "    \r\n",
        "    if tipe=='urban' :\r\n",
        "        Cm=0\r\n",
        "    elif tipe=='suburban' :\r\n",
        "        Cm= -2*((np.log10((frek/28)**2))-5.4)\r\n",
        "    elif tipe=='open' :\r\n",
        "        Cm= -4.78*(np.log10(frek))+18.33*(np.log10(frek))-40.94\r\n",
        "    else :\r\n",
        "        Cm='tipe salah'\r\n",
        "    \r\n",
        "    ahr = (1.1*np.log10(frek)-0.7)*hr-(1.56*np.log10(frek)-1.8)\r\n",
        "    Lp = Ca+(Cb*np.log10(frek))-(13.83*np.log(ht))-ahr+((44.9-6.55*np.log10(ht))*np.log10(d))-Cm\r\n",
        "    \r\n",
        "    return Lp"
      ],
      "execution_count": null,
      "outputs": []
    },
    {
      "cell_type": "code",
      "metadata": {
        "id": "MourpLeIi8kh"
      },
      "source": [
        "f=1800 #MHZ\r\n",
        "loc='urban'\r\n",
        "loc2='open'\r\n",
        "loc3='suburban'\r\n",
        "tower=80 #m\r\n",
        "user=1.5 #m\r\n",
        "dmin=200 #m\r\n",
        "dmax=700 #m\r\n",
        "N=200 #titik\r\n",
        "d=np.random.randint(dmin,dmax,N)"
      ],
      "execution_count": null,
      "outputs": []
    },
    {
      "cell_type": "code",
      "metadata": {
        "colab": {
          "base_uri": "https://localhost:8080/"
        },
        "id": "veRO_c30jfGu",
        "outputId": "28f1f4d8-f2ef-4e46-bdca-483985b5c32b"
      },
      "source": [
        "print(d)"
      ],
      "execution_count": null,
      "outputs": [
        {
          "output_type": "stream",
          "text": [
            "[238 229 422 347 344 406 684 398 283 343 614 464 276 670 564 517 561 320\n",
            " 280 468 637 319 594 615 567 524 305 689 456 572 278 419 470 302 611 467\n",
            " 670 676 219 651 651 425 355 232 621 653 616 211 470 282 464 487 614 357\n",
            " 277 460 639 209 462 539 331 671 596 402 233 562 317 493 639 423 243 663\n",
            " 405 668 580 388 573 583 564 654 577 682 291 504 241 312 691 346 468 316\n",
            " 413 689 655 241 346 301 422 624 276 314 301 447 248 451 324 381 248 342\n",
            " 387 530 223 655 662 503 438 258 245 520 332 273 376 566 646 566 275 684\n",
            " 551 481 414 266 219 407 639 533 440 410 538 399 276 452 604 395 346 298\n",
            " 399 282 317 404 356 698 654 565 307 346 578 426 563 536 551 215 348 358\n",
            " 549 636 489 311 356 263 303 570 595 617 432 424 311 278 257 613 538 465\n",
            " 492 575 528 589 203 546 310 331 389 467 349 416 396 317 579 381 420 594\n",
            " 216 520]\n"
          ],
          "name": "stdout"
        }
      ]
    },
    {
      "cell_type": "code",
      "metadata": {
        "id": "RkY93C2ZjsBR"
      },
      "source": [
        "LpUrban=cos(f,loc,tower,user,d)\r\n",
        "LpOpen=cos(f,loc2,tower,user,d)\r\n",
        "LpSubUrban=cos(f,loc3,tower,user,d)"
      ],
      "execution_count": null,
      "outputs": []
    },
    {
      "cell_type": "code",
      "metadata": {
        "id": "mQ8y2RljabUj"
      },
      "source": [
        "d_sort=d[np.argsort(d)]\r\n",
        "Urban_sort=LpUrban[np.argsort(d)]\r\n",
        "Open_sort=LpOpen[np.argsort(d)]\r\n",
        "SubUrban_sort=LpSubUrban[np.argsort(d)]"
      ],
      "execution_count": null,
      "outputs": []
    },
    {
      "cell_type": "markdown",
      "metadata": {
        "id": "-GhCVVpSuPA3"
      },
      "source": [
        "# **Gambar Kurva Frekuensi**"
      ]
    },
    {
      "cell_type": "code",
      "metadata": {
        "colab": {
          "base_uri": "https://localhost:8080/",
          "height": 295
        },
        "id": "oWSEeO6ATUxK",
        "outputId": "a6e4eb80-7f6a-4e3e-cda3-8d47d830102e"
      },
      "source": [
        "plt.figure()\r\n",
        "plt.plot(d_sort,Urban_sort,'b-', label='Urban')\r\n",
        "plt.plot(d_sort,Open_sort,'orange', label='Open')\r\n",
        "plt.plot(d_sort,SubUrban_sort,'g-', label='Sub Urban')\r\n",
        "plt.legend()\r\n",
        "plt.title('Frekuensi 1800 MHZ (GAMBAR CONTOH)')\r\n",
        "plt.xlabel('Jarak (m)')\r\n",
        "plt.ylabel('Path Loss (dB)')\r\n",
        "plt.show()"
      ],
      "execution_count": null,
      "outputs": [
        {
          "output_type": "display_data",
          "data": {
            "image/png": "[encoded data removed]",
            "text/plain": [
              "<Figure size 432x288 with 1 Axes>"
            ]
          },
          "metadata": {
            "tags": [],
            "needs_background": "light"
          }
        }
      ]
    },
    {
      "cell_type": "markdown",
      "metadata": {
        "id": "3Kn5lcjhudi5"
      },
      "source": [
        "# **Grafik 2- Model Urban**"
      ]
    },
    {
      "cell_type": "code",
      "metadata": {
        "id": "MN-1i8MUuViV"
      },
      "source": [
        "f=700 #MHZ\r\n",
        "f2=900 #MHZ\r\n",
        "f3=1800 #MHZ\r\n",
        "loc='urban'\r\n",
        "tower=80 #m\r\n",
        "user=1.5 #m\r\n",
        "dmin=200 #m\r\n",
        "dmax=700 #m\r\n",
        "N=200 #titik\r\n",
        "d=np.random.randint(dmin,dmax,N)"
      ],
      "execution_count": null,
      "outputs": []
    },
    {
      "cell_type": "code",
      "metadata": {
        "id": "W3t8Oa0Mup6N"
      },
      "source": [
        "LpUrban=cos(f,loc,tower,user,d)\r\n",
        "LpUrban2=cos(f2,loc,tower,user,d)\r\n",
        "LpUrban3=cos(f3,loc,tower,user,d)"
      ],
      "execution_count": null,
      "outputs": []
    },
    {
      "cell_type": "code",
      "metadata": {
        "id": "4kkOcNu6vZY0"
      },
      "source": [
        "d_sort=d[np.argsort(d)]\r\n",
        "Urban_sort=LpUrban[np.argsort(d)]\r\n",
        "Urban2_sort=LpUrban2[np.argsort(d)]\r\n",
        "Urban3_sort=LpUrban3[np.argsort(d)]"
      ],
      "execution_count": null,
      "outputs": []
    },
    {
      "cell_type": "markdown",
      "metadata": {
        "id": "xxmW6yAzwVR3"
      },
      "source": [
        "# **Gambar Kurva Model Urban**"
      ]
    },
    {
      "cell_type": "code",
      "metadata": {
        "colab": {
          "base_uri": "https://localhost:8080/",
          "height": 295
        },
        "id": "7vVoLcqyvsEh",
        "outputId": "94f739d9-1fd0-4b22-e4c1-3a494570d543"
      },
      "source": [
        "plt.figure()\r\n",
        "plt.plot(d_sort,Urban_sort,'b-',label='700 MHZ')\r\n",
        "plt.plot(d_sort,Urban2_sort,'orange',label='900 MHZ')\r\n",
        "plt.plot(d_sort,Urban3_sort,'g-',label='1800 MHZ')\r\n",
        "plt.legend()\r\n",
        "plt.title('Model Urban')\r\n",
        "plt.xlabel('Jarak (m)')\r\n",
        "plt.ylabel('Pathloss (dB)')\r\n",
        "plt.show()"
      ],
      "execution_count": null,
      "outputs": [
        {
          "output_type": "display_data",
          "data": {
            "image/png": "[encoded data removed]",
            "text/plain": [
              "<Figure size 432x288 with 1 Axes>"
            ]
          },
          "metadata": {
            "tags": [],
            "needs_background": "light"
          }
        }
      ]
    }
  ]
}
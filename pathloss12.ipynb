{
  "nbformat": 4,
  "nbformat_minor": 0,
  "metadata": {
    "colab": {
      "name": "pathloss12.ipynb",
      "provenance": []
    },
    "kernelspec": {
      "name": "python3",
      "display_name": "Python 3"
    }
  },
  "cells": [
    {
      "cell_type": "code",
      "metadata": {
        "id": "jxqxc7q74vbz"
      },
      "source": [
        "import numpy as np"
      ],
      "execution_count": 16,
      "outputs": []
    },
    {
      "cell_type": "code",
      "metadata": {
        "id": "M89o6vhG5i45"
      },
      "source": [
        "def C1(n) :\r\n",
        "    if n >= 400 and n <= 1500 :\r\n",
        "        return 69.55\r\n",
        "    elif n > 1500 and n <= 2000 :\r\n",
        "        return 46.3"
      ],
      "execution_count": 17,
      "outputs": []
    },
    {
      "cell_type": "code",
      "metadata": {
        "id": "oWq1fbM967rc"
      },
      "source": [
        "def C2(n) :\r\n",
        "    if n >= 400 and n <= 1500 :\r\n",
        "        return 26.16\r\n",
        "    elif n > 1500 and n <= 2000 :\r\n",
        "        return 33.9"
      ],
      "execution_count": 18,
      "outputs": []
    },
    {
      "cell_type": "code",
      "metadata": {
        "id": "jTEWvRcq7Tal"
      },
      "source": [
        "def a(n, m) :\r\n",
        "    return (((1.1*np.log10(m))-0.7)*n) - ((1.56*np.log10(m))-0.8)"
      ],
      "execution_count": 19,
      "outputs": []
    },
    {
      "cell_type": "code",
      "metadata": {
        "id": "O6WsSvou8VRI"
      },
      "source": [
        "def Cm(type, m) :\r\n",
        "    if type == 1 :\r\n",
        "        return 0\r\n",
        "    elif type == 2 :\r\n",
        "        return (-2*((np.log10(m/28))**2))-54\r\n",
        "    else :\r\n",
        "        return (-4.78*((np.log10(m))**2))+(18.33*np.log10(m))-40.94"
      ],
      "execution_count": 15,
      "outputs": []
    },
    {
      "cell_type": "code",
      "metadata": {
        "id": "TH4hV7nV_5kj"
      },
      "source": [
        "def PathLoss(b,z,Type_Cm,hT,hR) :\r\n",
        "  return C1(z)+(C2(z)*np.log10(z))-(13.83*np.log10(hT))-a(hR, z)+((44.9-(6.55*np.log10(hT)))*np.log10(b))+Cm(Type_Cm, z)"
      ],
      "execution_count": 23,
      "outputs": []
    },
    {
      "cell_type": "code",
      "metadata": {
        "colab": {
          "base_uri": "https://localhost:8080/"
        },
        "id": "ugOu6bV6KrRR",
        "outputId": "3bf9910a-6282-4abc-fb38-44bdea5db179"
      },
      "source": [
        "PL=PathLoss(1000,1000,2,49,24)\r\n",
        "print(\"Pathloss dalam db =\",PL,\"dB\")"
      ],
      "execution_count": 38,
      "outputs": [
        {
          "output_type": "stream",
          "text": [
            "Pathloss dalam db = 108.79959888139541 dB\n"
          ],
          "name": "stdout"
        }
      ]
    }
  ]
}